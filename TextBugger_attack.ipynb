{
  "nbformat": 4,
  "nbformat_minor": 0,
  "metadata": {
    "colab": {
      "provenance": [],
      "authorship_tag": "ABX9TyNlvViY1nGWYob5XqZqICOu",
      "include_colab_link": true
    },
    "kernelspec": {
      "name": "python3",
      "display_name": "Python 3"
    },
    "language_info": {
      "name": "python"
    }
  },
  "cells": [
    {
      "cell_type": "markdown",
      "metadata": {
        "id": "view-in-github",
        "colab_type": "text"
      },
      "source": [
        "<a href=\"https://colab.research.google.com/github/kolayn808/textattack_test/blob/main/TextBugger_attack.ipynb\" target=\"_parent\"><img src=\"https://colab.research.google.com/assets/colab-badge.svg\" alt=\"Open In Colab\"/></a>"
      ]
    },
    {
      "cell_type": "markdown",
      "source": [
        "Импорт необходимых библиотек"
      ],
      "metadata": {
        "id": "zW1ROWKTCZAM"
      }
    },
    {
      "cell_type": "code",
      "execution_count": 2,
      "metadata": {
        "id": "z6Fcxy1-CQzz"
      },
      "outputs": [],
      "source": [
        "import numpy as np\n",
        "import random\n",
        "import nltk\n",
        "from nltk.corpus import stopwords"
      ]
    },
    {
      "cell_type": "markdown",
      "source": [
        "Загрузка словаря стоп-слов"
      ],
      "metadata": {
        "id": "PagvQqx6Cedm"
      }
    },
    {
      "cell_type": "code",
      "source": [
        "nltk.download('stopwords')\n",
        "\n",
        "# Загрузка списка стоп-слов\n",
        "stop_words = set(stopwords.words('english'))\n"
      ],
      "metadata": {
        "id": "8-MorGhOCmiM",
        "colab": {
          "base_uri": "https://localhost:8080/"
        },
        "outputId": "dd6f50c5-2470-4878-cba3-88381b7cc7ce"
      },
      "execution_count": 3,
      "outputs": [
        {
          "output_type": "stream",
          "name": "stderr",
          "text": [
            "[nltk_data] Downloading package stopwords to /root/nltk_data...\n",
            "[nltk_data]   Unzipping corpora/stopwords.zip.\n"
          ]
        }
      ]
    },
    {
      "cell_type": "markdown",
      "source": [
        "Создание класса атаки TextBugger"
      ],
      "metadata": {
        "id": "7y2wK_YPCqVo"
      }
    },
    {
      "cell_type": "code",
      "source": [
        "class TextBugger_attacker:\n",
        "\n",
        "    # Функция генерации багов в слове\n",
        "    def generateBugs(word, bug_types={\"insert\", \"delete\", \"swap\", \"sub_C\"}):\n",
        "        \"\"\"\n",
        "        Функция для генерации багов. Статья TextBugger\n",
        "        Li J. et al. Textbugger: Generating adversarial text against real-world\n",
        "        applications //arXiv preprint arXiv:1812.05271. – 2018.\n",
        "        \"\"\"\n",
        "\n",
        "        bugs = {\"insert\": word, \"delete\": word, \"swap\": word, \"sub_C\": word, \"sub_W\": word}\n",
        "\n",
        "        if (len(word) <= 2):\n",
        "            return bugs\n",
        "\n",
        "        # Генерация различных типов багов\n",
        "        if \"insert\" in bug_types:\n",
        "            bugs[\"insert\"] = TextBugger_attacker.bug_insert(word)\n",
        "        if \"delete\" in bug_types:\n",
        "            bugs[\"delete\"] = TextBugger_attacker.bug_delete(word)\n",
        "        if \"swap\" in bug_types:\n",
        "            bugs[\"swap\"] = TextBugger_attacker.bug_swap(word)\n",
        "        if \"sub_C\" in bug_types:\n",
        "            bugs[\"sub_C\"] = TextBugger_attacker.bug_sub_C(word)\n",
        "\n",
        "        return bugs\n",
        "\n",
        "    # Функция для вставки пробела в слово\n",
        "    def bug_insert(word):\n",
        "        if (len(word) >= 6):\n",
        "            return word\n",
        "        res = word\n",
        "        point = random.randint(1, len(word) - 1)\n",
        "        res = res[0:point] + \" \" + res[point:]\n",
        "        return res\n",
        "\n",
        "    # Функция для удаления буквы из слова\n",
        "    def bug_delete(word):\n",
        "        res = word\n",
        "        point = random.randint(1, len(word) - 2)\n",
        "        res = res[0:point] + res[point + 1:]\n",
        "        return res\n",
        "\n",
        "    # Функция для перемены местами двух соседних букв в слове\n",
        "    def bug_swap(word):\n",
        "        if (len(word) <= 4):\n",
        "            return word\n",
        "        res = word\n",
        "        points = random.sample(range(1, len(word) - 1), 2)\n",
        "        a = points[0]\n",
        "        b = points[1]\n",
        "        res = list(res)\n",
        "        w = res[a]\n",
        "        res[a] = res[b]\n",
        "        res[b] = w\n",
        "        res = ''.join(res)\n",
        "        return res\n",
        "\n",
        "    # Функция для замены буквы на визуально похожую\n",
        "    def bug_sub_C(word):\n",
        "        res = word\n",
        "        key_neighbors = TextBugger_attacker.get_key_neighbors()\n",
        "        point = random.randint(0, len(word) - 1)\n",
        "\n",
        "        if word[point] not in key_neighbors:\n",
        "            return word\n",
        "        choices = key_neighbors[word[point]]\n",
        "        subbed_choice = choices[random.randint(0, len(choices) - 1)]\n",
        "        res = list(res)\n",
        "        res[point] = subbed_choice\n",
        "        res = ''.join(res)\n",
        "\n",
        "        return res\n",
        "\n",
        "    # Словарь соседних и похожих символов для использования при замене букв\n",
        "    def get_key_neighbors():\n",
        "        neighbors = {\n",
        "            \"q\": \"was\", \"w\": \"qeasd\", \"e\": \"wrsdf\", \"r\": \"etdfg\", \"t\": \"ryfgh\", \"y\": \"tughj\", \"u\": \"yihjk\", \"i\": \"uojkl\",\n",
        "            \"o\": \"ipkl\", \"p\": \"ol\",\n",
        "            \"a\": \"qwszx\", \"s\": \"qweadzx\", \"d\": \"wersfxc\", \"f\": \"ertdgcv\", \"g\": \"rtyfhvb\", \"h\": \"tyugjbn\", \"j\": \"yuihknm\",\n",
        "            \"k\": \"uiojlm\", \"l\": \"opk\",\n",
        "            \"z\": \"asx\", \"x\": \"sdzc\", \"c\": \"dfxv\", \"v\": \"fgcb\", \"b\": \"ghvn\", \"n\": \"hjbm\", \"m\": \"jkn\"\n",
        "        }\n",
        "\n",
        "        neighbors['i'] += '1'\n",
        "        neighbors['l'] += '1'\n",
        "        neighbors['z'] += '2'\n",
        "        neighbors['e'] += '3'\n",
        "        neighbors['a'] += '@'\n",
        "        neighbors['s'] += '5'\n",
        "        neighbors['g'] += '6'\n",
        "        neighbors['b'] += '8'\n",
        "        neighbors['g'] += '9'\n",
        "        neighbors['q'] += '9'\n",
        "        neighbors['o'] += '0'\n",
        "\n",
        "        return neighbors\n",
        "\n",
        "    # Функция для генерации атаки на текст\n",
        "    def textbugger_attack(original_text,\n",
        "                          bug_nums=3,\n",
        "                          bug_types={\"insert\", \"delete\", \"swap\", \"sub_C\"}):\n",
        "        words = original_text.split(' ')\n",
        "        sen_len = len(words)\n",
        "\n",
        "        wn = set()\n",
        "        adv_words = words\n",
        "\n",
        "        for i in range(bug_nums):\n",
        "            if len(wn) == sen_len:\n",
        "                break\n",
        "\n",
        "            # Выбор случайного слова в предложении для внесения изменений\n",
        "            n = np.random.randint(low=0, high=sen_len)\n",
        "            while n in wn or adv_words[n] in stop_words or len(adv_words[n]) <= 2:\n",
        "                n = np.random.randint(low=0, high=sen_len)\n",
        "\n",
        "            wn.add(n)\n",
        "            candidate_word = adv_words[n]\n",
        "            bugs_vars = bug_types.copy()\n",
        "\n",
        "            # Исключение типов багов, которые неприменимы к текущему слову\n",
        "            if len(candidate_word) <= 4:\n",
        "                bugs_vars.difference_update({'swap', 'typoW'})\n",
        "            elif len(candidate_word) >= 6:\n",
        "                bugs_vars.remove('insert')\n",
        "\n",
        "            # Генерация случайного типа бага\n",
        "            #print(bugs_vars)\n",
        "            bugs = TextBugger_attacker.generateBugs(candidate_word, bug_types=bugs_vars)\n",
        "            at = random.choice(list(bugs_vars))\n",
        "            print(f\"{at}: {bugs[at]}\")\n",
        "\n",
        "            # Применение выбранного бага к слову в предложении\n",
        "            adv_words = adv_words[:n] + [bugs[at]] + adv_words[n + 1:]\n",
        "            adversarial_sentence = ' '.join(adv_words)\n",
        "            print(original_text)\n",
        "            print(adversarial_sentence)\n",
        "\n",
        "            return adversarial_sentence"
      ],
      "metadata": {
        "id": "jZSdpE3REtDK"
      },
      "execution_count": 7,
      "outputs": []
    },
    {
      "cell_type": "markdown",
      "source": [
        "Пример атаки"
      ],
      "metadata": {
        "id": "Ohl9-c2rFdSz"
      }
    },
    {
      "cell_type": "code",
      "source": [
        "original_text = \"i really hoped for the best with this one , but it just did n't happen . financed at a very non - dutch manner and still looking great , with a style and pace that 's very much like hollywood\"\n",
        "adv_res = TextBugger_attacker.textbugger_attack(original_text, bug_nums=1, bug_types={\"insert\", \"delete\", \"swap\", \"sub_C\"})"
      ],
      "metadata": {
        "colab": {
          "base_uri": "https://localhost:8080/"
        },
        "id": "UfB8O7AnFhSY",
        "outputId": "4e600292-f559-4db6-aacf-6369f260b166"
      },
      "execution_count": 8,
      "outputs": [
        {
          "output_type": "stream",
          "name": "stdout",
          "text": [
            "sub_C: oike\n",
            "i really hoped for the best with this one , but it just did n't happen . financed at a very non - dutch manner and still looking great , with a style and pace that 's very much like hollywood\n",
            "i really hoped for the best with this one , but it just did n't happen . financed at a very non - dutch manner and still looking great , with a style and pace that 's very much oike hollywood\n"
          ]
        }
      ]
    }
  ]
}