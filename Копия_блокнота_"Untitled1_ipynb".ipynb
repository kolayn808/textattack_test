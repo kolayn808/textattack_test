{
  "nbformat": 4,
  "nbformat_minor": 0,
  "metadata": {
    "colab": {
      "provenance": [],
      "authorship_tag": "ABX9TyP8oKmxPST12O+GUiDOPRXN",
      "include_colab_link": true
    },
    "kernelspec": {
      "name": "python3",
      "display_name": "Python 3"
    },
    "language_info": {
      "name": "python"
    }
  },
  "cells": [
    {
      "cell_type": "markdown",
      "metadata": {
        "id": "view-in-github",
        "colab_type": "text"
      },
      "source": [
        "<a href=\"https://colab.research.google.com/github/kolayn808/textattack_test/blob/main/%D0%9A%D0%BE%D0%BF%D0%B8%D1%8F_%D0%B1%D0%BB%D0%BE%D0%BA%D0%BD%D0%BE%D1%82%D0%B0_%22Untitled1_ipynb%22.ipynb\" target=\"_parent\"><img src=\"https://colab.research.google.com/assets/colab-badge.svg\" alt=\"Open In Colab\"/></a>"
      ]
    },
    {
      "cell_type": "markdown",
      "source": [
        "Установка Textattack"
      ],
      "metadata": {
        "id": "stFq1i87Hxyu"
      }
    },
    {
      "cell_type": "code",
      "execution_count": null,
      "metadata": {
        "id": "YiC-iaAfHtVd"
      },
      "outputs": [],
      "source": [
        "!git clone https://github.com/QData/TextAttack.git\n"
      ]
    },
    {
      "cell_type": "code",
      "source": [
        "%cd /content/TextAttack\n",
        "!pip install -e ."
      ],
      "metadata": {
        "id": "OnDmb31QHvh4"
      },
      "execution_count": null,
      "outputs": []
    },
    {
      "cell_type": "markdown",
      "source": [
        "Импорт модели"
      ],
      "metadata": {
        "id": "D57BmmLNH8d4"
      }
    },
    {
      "cell_type": "code",
      "source": [
        "import transformers\n",
        "from textattack.models.wrappers import HuggingFaceModelWrapper\n",
        "\n",
        "model = transformers.AutoModelForSequenceClassification.from_pretrained(\"textattack/albert-base-v2-imdb\")\n",
        "tokenizer = transformers.AutoTokenizer.from_pretrained(\"textattack/albert-base-v2-imdb\")\n",
        "\n",
        "model_wrapper = HuggingFaceModelWrapper(model, tokenizer)"
      ],
      "metadata": {
        "id": "wM78u0nJH_gp"
      },
      "execution_count": null,
      "outputs": []
    }
  ]
}